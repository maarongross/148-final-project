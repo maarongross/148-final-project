{
  "nbformat": 4,
  "nbformat_minor": 0,
  "metadata": {
    "colab": {
      "provenance": [],
      "mount_file_id": "1DcMqr50LyHVgQOcX4SW5jPv8t7l9MdcM",
      "authorship_tag": "ABX9TyPWOQSLxDsrjFiZsh2QbXVK",
      "include_colab_link": true
    },
    "kernelspec": {
      "name": "python3",
      "display_name": "Python 3"
    },
    "language_info": {
      "name": "python"
    }
  },
  "cells": [
    {
      "cell_type": "markdown",
      "metadata": {
        "id": "view-in-github",
        "colab_type": "text"
      },
      "source": [
        "<a href=\"https://colab.research.google.com/github/maarongross/apriltag-imgs/blob/master/AprilTags.ipynb\" target=\"_parent\"><img src=\"https://colab.research.google.com/assets/colab-badge.svg\" alt=\"Open In Colab\"/></a>"
      ]
    },
    {
      "cell_type": "code",
      "source": [
        "from pip._internal import main as pipmain\n",
        "pipmain(['install', 'package-name'])"
      ],
      "metadata": {
        "id": "4Vl_xQCk9tGU"
      },
      "execution_count": null,
      "outputs": []
    },
    {
      "cell_type": "code",
      "execution_count": 13,
      "metadata": {
        "id": "BJmsnu11-IZB"
      },
      "outputs": [],
      "source": [
        "import cv2\n",
        "from google.colab.patches import cv2_imshow\n",
        "import apriltag"
      ]
    },
    {
      "cell_type": "code",
      "source": [
        "img = cv2.imread('/content/drive/MyDrive/(1) UCSD/(6) Fall 2022/MAE-148/AprilTags/apriltag-imgs-master/apriltag-imgs-master/tag16h5/tag16_05_00020.png')\n",
        "img = cv2.cvtColor(img, cv2.COLOR_BGR2GRAY)\n",
        "img = cv2.resize(img,(220,220), interpolation = cv2.INTER_AREA)\n",
        "\n",
        "options = apriltag.DetectorOptions(families=\"tag16h5\")\n",
        "detector = apriltag.Detector(options)\n",
        "result = detector.detect(img)\n",
        "\n",
        "img = cv2.cvtColor(img, cv2.COLOR_GRAY2RGB)"
      ],
      "metadata": {
        "id": "TvRGja5hBlWm"
      },
      "execution_count": 134,
      "outputs": []
    },
    {
      "cell_type": "code",
      "source": [
        "for r in result:\n",
        "\n",
        "  (A,B,C,D) = r.corners \n",
        "  corner_B = (int(B[0]), int(B[1]))\n",
        "  corner_C = (int(C[0]), int(C[1]))\n",
        "  corner_D = (int(D[0]), int(D[1]))\n",
        "  corner_A = (int(A[0]), int(A[1]))\n",
        "  \n",
        "  cv2.line(img, corner_A, corner_B, (0,255,0), 5)\n",
        "  cv2.line(img, corner_B, corner_C, (0,255,0), 5)\n",
        "  cv2.line(img, corner_C, corner_D, (0,255,0), 5)\n",
        "  cv2.line(img, corner_D, corner_A, (0,255,0), 5)\n",
        "\n",
        "  (cX,cY) = (int(r.center[0]), int(r.center[1]))\n",
        "  cv2.circle(img,(cX,cY), 5, (0, 0, 255), -1)\n",
        "\n",
        "  tagFamily = r.tag_family.decode(\"utf-8\")\n",
        "  tagID = str(r.tag_id)\n",
        "  print(tagID)\n",
        "  cv2.putText(img, \"tagID: \" + tagID, (corner_A[0], corner_A[1] - 15),\n",
        "              cv2.FONT_HERSHEY_SIMPLEX, 0.5, (0,255,0), 2)\n",
        "  \n",
        "  print(\"[INFO] tag ID: {}\".format(tagID))\n",
        "\n",
        "cv2_imshow(img)"
      ],
      "metadata": {
        "colab": {
          "base_uri": "https://localhost:8080/",
          "height": 272
        },
        "id": "h0sqNouhZYqy",
        "outputId": "c4c5d278-be4d-433c-a2b8-0d3f82723efa"
      },
      "execution_count": 135,
      "outputs": [
        {
          "output_type": "stream",
          "name": "stdout",
          "text": [
            "20\n",
            "[INFO] tag ID: 20\n"
          ]
        },
        {
          "output_type": "display_data",
          "data": {
            "text/plain": [
              "<PIL.Image.Image image mode=RGB size=220x220 at 0x7FC96DF917D0>"
            ],
            "image/png": "[encoded data removed]"
          },
          "metadata": {}
        }
      ]
    },
    {
      "cell_type": "code",
      "source": [
        "checkPointInfo = {10 : \"Velocity = 10 \\n Checkpoint #1\",\n",
        "                  20 : \"Velocity = 50 \\n Checkpoint #2\",\n",
        "                  30 : \"Velocity = 10 \\n Checkpoint #3\"}\n",
        "\n",
        "print(checkPointInfo[int(tagID)])"
      ],
      "metadata": {
        "colab": {
          "base_uri": "https://localhost:8080/"
        },
        "id": "8MfWWPyak75k",
        "outputId": "dbb0ffb8-ae72-499d-ebd5-a4d97c617902"
      },
      "execution_count": 136,
      "outputs": [
        {
          "output_type": "stream",
          "name": "stdout",
          "text": [
            "Velocity = 50 \n",
            " Checkpoint #2\n"
          ]
        }
      ]
    }
  ]
}