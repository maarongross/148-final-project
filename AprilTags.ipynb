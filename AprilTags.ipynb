{
  "nbformat": 4,
  "nbformat_minor": 0,
  "metadata": {
    "colab": {
      "provenance": []
    },
    "kernelspec": {
      "name": "python3",
      "display_name": "Python 3"
    },
    "language_info": {
      "name": "python"
    }
  },
  "cells": [
    {
      "cell_type": "code",
      "source": [
        "from pip._internal import main as pipmain\n",
        "pipmain(['install', 'package-name'])"
      ],
      "metadata": {
        "id": "4Vl_xQCk9tGU"
      },
      "execution_count": null,
      "outputs": []
    },
    {
      "cell_type": "code",
      "execution_count": 13,
      "metadata": {
        "id": "BJmsnu11-IZB"
      },
      "outputs": [],
      "source": [
        "import cv2\n",
        "from google.colab.patches import cv2_imshow\n",
        "import apriltag"
      ]
    },
    {
      "cell_type": "code",
      "source": [
        "img = cv2.imread('/content/drive/MyDrive/(1) UCSD/(6) Fall 2022/MAE-148/AprilTags/apriltag-imgs-master/apriltag-imgs-master/tag16h5/tag16_05_00020.png')\n",
        "img = cv2.cvtColor(img, cv2.COLOR_BGR2GRAY)\n",
        "\n",
        "img = cv2.resize(img,(220,220), interpolation = cv2.INTER_AREA)\n",
        "\n",
        "options = apriltag.DetectorOptions(families=\"tag16h5\")\n",
        "detector = apriltag.Detector(options)\n",
        "cv2_imshow(img)\n",
        "result = detector.detect(img)\n",
        "print(result)"
      ],
      "metadata": {
        "colab": {
          "base_uri": "https://localhost:8080/",
          "height": 361
        },
        "id": "TvRGja5hBlWm",
        "outputId": "00981740-44bb-4d1f-f444-63691d97d027"
      },
      "execution_count": 44,
      "outputs": [
        {
          "output_type": "display_data",
          "data": {
            "text/plain": [
              "<PIL.Image.Image image mode=L size=220x220 at 0x7FC96DF97A90>"
            ],
            "image/png": "[encoded data removed]"
          },
          "metadata": {}
        },
        {
          "output_type": "stream",
          "name": "stdout",
          "text": [
            "[Detection(tag_family=b'tag16h5', tag_id=20, hamming=0, goodness=0.0, decision_margin=130.6875, homography=array([[-7.07068653e-01,  1.33321229e-02, -9.46555798e-01],\n",
            "       [ 8.66032026e-13, -7.02976933e-01, -9.43510686e-01],\n",
            "       [ 1.34859402e-16,  3.68018067e-05, -8.60485919e-03]]), center=array([110.0024739 , 109.64859097]), corners=array([[ 29.2558651 ,  27.83420372],\n",
            "       [192.89770508,  27.83420372],\n",
            "       [191.44273376, 192.165802  ],\n",
            "       [ 26.39513397, 192.165802  ]]))]\n"
          ]
        }
      ]
    },
    {
      "cell_type": "code",
      "source": [
        "for r in result:\n"
      ],
      "metadata": {
        "colab": {
          "base_uri": "https://localhost:8080/",
          "height": 130
        },
        "id": "h0sqNouhZYqy",
        "outputId": "b6c9ab02-6703-44f4-b20d-5b3b73143b80"
      },
      "execution_count": 45,
      "outputs": [
        {
          "output_type": "error",
          "ename": "SyntaxError",
          "evalue": "ignored",
          "traceback": [
            "\u001b[0;36m  File \u001b[0;32m\"<ipython-input-45-055f6ec9f21d>\"\u001b[0;36m, line \u001b[0;32m1\u001b[0m\n\u001b[0;31m    for r in results:\u001b[0m\n\u001b[0m                     ^\u001b[0m\n\u001b[0;31mSyntaxError\u001b[0m\u001b[0;31m:\u001b[0m unexpected EOF while parsing\n"
          ]
        }
      ]
    }
  ]
}